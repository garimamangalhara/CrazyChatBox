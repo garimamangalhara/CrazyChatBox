{
  "cells": [
    {
      "cell_type": "markdown",
      "id": "ff416a15-7710-49fe-a016-1eb5ccc9cd5f",
      "metadata": {
        "id": "ff416a15-7710-49fe-a016-1eb5ccc9cd5f"
      },
      "source": [
        "# Run CoCiP over a flight\n",
        "\n",
        "This tutorial walks through an example of running the [Contrail Cirrus Predicition (CoCiP)](https://gmd.copernicus.org/articles/5/543/2012/) model evaluation along a flight trajectory.\n",
        "\n",
        "## References\n",
        "\n",
        "- Schumann, U. “A Contrail Cirrus Prediction Model.” Geoscientific Model Development 5, no. 3 (May 3, 2012): 543–80. https://doi.org/10.5194/gmd-5-543-2012.\n",
        "- Schumann, U., B. Mayer, K. Graf, and H. Mannstein. “A Parametric Radiative Forcing Model for Contrail Cirrus.” Journal of Applied Meteorology and Climatology 51, no. 7 (July 2012): 1391–1406. https://doi.org/10.1175/JAMC-D-11-0242.1.\n",
        "- Teoh, Roger, Ulrich Schumann, Arnab Majumdar, and Marc E. J. Stettler. “Mitigating the Climate Forcing of Aircraft Contrails by Small-Scale Diversions and Technology Adoption.” Environmental Science & Technology 54, no. 5 (March 3, 2020): 2941–50. https://doi.org/10.1021/acs.est.9b05608.\n",
        "- Teoh, Roger, Ulrich Schumann, Edward Gryspeerdt, Marc Shapiro, Jarlath Molloy, George Koudis, Christiane Voigt, and Marc Stettler. “Aviation Contrail Climate Effects in the North Atlantic from 2016&ndash;2021.” Atmospheric Chemistry and Physics Discussions, March 30, 2022, 1–27. https://doi.org/10.5194/acp-2022-169."
      ]
    },
    {
      "cell_type": "code",
      "execution_count": 4,
      "id": "be993cde-3223-407a-b35f-18f5f85c3966",
      "metadata": {
        "id": "be993cde-3223-407a-b35f-18f5f85c3966"
      },
      "outputs": [],
      "source": [
        "import pandas as pd\n",
        "\n",
        "from pycontrails import Flight\n",
        "from pycontrails.datalib.ecmwf import ERA5\n",
        "from pycontrails.models.cocip import Cocip\n",
        "from pycontrails.models.humidity_scaling import ConstantHumidityScaling\n",
        "from pycontrails.physics import units"
      ]
    },
    {
      "cell_type": "markdown",
      "id": "e2b1bd32-bfba-452e-b05f-dab79f6ca7bc",
      "metadata": {
        "tags": [],
        "id": "e2b1bd32-bfba-452e-b05f-dab79f6ca7bc"
      },
      "source": [
        "## Load Flight\n",
        "\n",
        "Load flight trajectory from dataset prepared by Roger Teoh in https://doi.org/10.5194/acp-2022-169"
      ]
    },
    {
      "cell_type": "code",
      "execution_count": 5,
      "id": "d7f0c223-1ee0-4c67-8c49-e3494b9338b0",
      "metadata": {
        "colab": {
          "base_uri": "https://localhost:8080/",
          "height": 313
        },
        "id": "d7f0c223-1ee0-4c67-8c49-e3494b9338b0",
        "outputId": "d0da1316-6a89-40cf-8186-20cbfe5b4a51"
      },
      "outputs": [
        {
          "output_type": "execute_result",
          "data": {
            "text/plain": [
              "   Longitude (degrees)  Latitude (degrees)  Altitude (feet)    UTC time  \\\n",
              "0              -10.070              55.185            36000  1546651185   \n",
              "1              -10.273              55.222            36000  1546651245   \n",
              "2              -10.476              55.258            36000  1546651305   \n",
              "3              -10.680              55.295            36000  1546651365   \n",
              "4              -10.883              55.331            36000  1546651425   \n",
              "\n",
              "   True airspeed (m s-1)  Mach Number  Aircraft mass (kg)  \\\n",
              "0                230.858        0.791          236479.000   \n",
              "1                230.682        0.790          236379.755   \n",
              "2                230.563        0.789          236280.355   \n",
              "3                230.501        0.789          236180.791   \n",
              "4                230.476        0.789          236081.128   \n",
              "\n",
              "   Fuel mass flow rate (kg s-1)  Overall propulsion efficiency  \\\n",
              "0                         1.654                            0.4   \n",
              "1                         1.657                            0.4   \n",
              "2                         1.659                            0.4   \n",
              "3                         1.661                            0.4   \n",
              "4                         1.662                            0.4   \n",
              "\n",
              "   nvPM number emissions index (kg-1) ICAO Aircraft Type  Wingspan (m)  \n",
              "0                    1500000000000000               A359         64.75  \n",
              "1                    1500000000000000               A359         64.75  \n",
              "2                    1500000000000000               A359         64.75  \n",
              "3                    1500000000000000               A359         64.75  \n",
              "4                    1500000000000000               A359         64.75  "
            ],
            "text/html": [
              "\n",
              "  <div id=\"df-049729ae-474c-4153-aff1-846bdf4c0129\" class=\"colab-df-container\">\n",
              "    <div>\n",
              "<style scoped>\n",
              "    .dataframe tbody tr th:only-of-type {\n",
              "        vertical-align: middle;\n",
              "    }\n",
              "\n",
              "    .dataframe tbody tr th {\n",
              "        vertical-align: top;\n",
              "    }\n",
              "\n",
              "    .dataframe thead th {\n",
              "        text-align: right;\n",
              "    }\n",
              "</style>\n",
              "<table border=\"1\" class=\"dataframe\">\n",
              "  <thead>\n",
              "    <tr style=\"text-align: right;\">\n",
              "      <th></th>\n",
              "      <th>Longitude (degrees)</th>\n",
              "      <th>Latitude (degrees)</th>\n",
              "      <th>Altitude (feet)</th>\n",
              "      <th>UTC time</th>\n",
              "      <th>True airspeed (m s-1)</th>\n",
              "      <th>Mach Number</th>\n",
              "      <th>Aircraft mass (kg)</th>\n",
              "      <th>Fuel mass flow rate (kg s-1)</th>\n",
              "      <th>Overall propulsion efficiency</th>\n",
              "      <th>nvPM number emissions index (kg-1)</th>\n",
              "      <th>ICAO Aircraft Type</th>\n",
              "      <th>Wingspan (m)</th>\n",
              "    </tr>\n",
              "  </thead>\n",
              "  <tbody>\n",
              "    <tr>\n",
              "      <th>0</th>\n",
              "      <td>-10.070</td>\n",
              "      <td>55.185</td>\n",
              "      <td>36000</td>\n",
              "      <td>1546651185</td>\n",
              "      <td>230.858</td>\n",
              "      <td>0.791</td>\n",
              "      <td>236479.000</td>\n",
              "      <td>1.654</td>\n",
              "      <td>0.4</td>\n",
              "      <td>1500000000000000</td>\n",
              "      <td>A359</td>\n",
              "      <td>64.75</td>\n",
              "    </tr>\n",
              "    <tr>\n",
              "      <th>1</th>\n",
              "      <td>-10.273</td>\n",
              "      <td>55.222</td>\n",
              "      <td>36000</td>\n",
              "      <td>1546651245</td>\n",
              "      <td>230.682</td>\n",
              "      <td>0.790</td>\n",
              "      <td>236379.755</td>\n",
              "      <td>1.657</td>\n",
              "      <td>0.4</td>\n",
              "      <td>1500000000000000</td>\n",
              "      <td>A359</td>\n",
              "      <td>64.75</td>\n",
              "    </tr>\n",
              "    <tr>\n",
              "      <th>2</th>\n",
              "      <td>-10.476</td>\n",
              "      <td>55.258</td>\n",
              "      <td>36000</td>\n",
              "      <td>1546651305</td>\n",
              "      <td>230.563</td>\n",
              "      <td>0.789</td>\n",
              "      <td>236280.355</td>\n",
              "      <td>1.659</td>\n",
              "      <td>0.4</td>\n",
              "      <td>1500000000000000</td>\n",
              "      <td>A359</td>\n",
              "      <td>64.75</td>\n",
              "    </tr>\n",
              "    <tr>\n",
              "      <th>3</th>\n",
              "      <td>-10.680</td>\n",
              "      <td>55.295</td>\n",
              "      <td>36000</td>\n",
              "      <td>1546651365</td>\n",
              "      <td>230.501</td>\n",
              "      <td>0.789</td>\n",
              "      <td>236180.791</td>\n",
              "      <td>1.661</td>\n",
              "      <td>0.4</td>\n",
              "      <td>1500000000000000</td>\n",
              "      <td>A359</td>\n",
              "      <td>64.75</td>\n",
              "    </tr>\n",
              "    <tr>\n",
              "      <th>4</th>\n",
              "      <td>-10.883</td>\n",
              "      <td>55.331</td>\n",
              "      <td>36000</td>\n",
              "      <td>1546651425</td>\n",
              "      <td>230.476</td>\n",
              "      <td>0.789</td>\n",
              "      <td>236081.128</td>\n",
              "      <td>1.662</td>\n",
              "      <td>0.4</td>\n",
              "      <td>1500000000000000</td>\n",
              "      <td>A359</td>\n",
              "      <td>64.75</td>\n",
              "    </tr>\n",
              "  </tbody>\n",
              "</table>\n",
              "</div>\n",
              "    <div class=\"colab-df-buttons\">\n",
              "\n",
              "  <div class=\"colab-df-container\">\n",
              "    <button class=\"colab-df-convert\" onclick=\"convertToInteractive('df-049729ae-474c-4153-aff1-846bdf4c0129')\"\n",
              "            title=\"Convert this dataframe to an interactive table.\"\n",
              "            style=\"display:none;\">\n",
              "\n",
              "  <svg xmlns=\"http://www.w3.org/2000/svg\" height=\"24px\" viewBox=\"0 -960 960 960\">\n",
              "    <path d=\"M120-120v-720h720v720H120Zm60-500h600v-160H180v160Zm220 220h160v-160H400v160Zm0 220h160v-160H400v160ZM180-400h160v-160H180v160Zm440 0h160v-160H620v160ZM180-180h160v-160H180v160Zm440 0h160v-160H620v160Z\"/>\n",
              "  </svg>\n",
              "    </button>\n",
              "\n",
              "  <style>\n",
              "    .colab-df-container {\n",
              "      display:flex;\n",
              "      gap: 12px;\n",
              "    }\n",
              "\n",
              "    .colab-df-convert {\n",
              "      background-color: #E8F0FE;\n",
              "      border: none;\n",
              "      border-radius: 50%;\n",
              "      cursor: pointer;\n",
              "      display: none;\n",
              "      fill: #1967D2;\n",
              "      height: 32px;\n",
              "      padding: 0 0 0 0;\n",
              "      width: 32px;\n",
              "    }\n",
              "\n",
              "    .colab-df-convert:hover {\n",
              "      background-color: #E2EBFA;\n",
              "      box-shadow: 0px 1px 2px rgba(60, 64, 67, 0.3), 0px 1px 3px 1px rgba(60, 64, 67, 0.15);\n",
              "      fill: #174EA6;\n",
              "    }\n",
              "\n",
              "    .colab-df-buttons div {\n",
              "      margin-bottom: 4px;\n",
              "    }\n",
              "\n",
              "    [theme=dark] .colab-df-convert {\n",
              "      background-color: #3B4455;\n",
              "      fill: #D2E3FC;\n",
              "    }\n",
              "\n",
              "    [theme=dark] .colab-df-convert:hover {\n",
              "      background-color: #434B5C;\n",
              "      box-shadow: 0px 1px 3px 1px rgba(0, 0, 0, 0.15);\n",
              "      filter: drop-shadow(0px 1px 2px rgba(0, 0, 0, 0.3));\n",
              "      fill: #FFFFFF;\n",
              "    }\n",
              "  </style>\n",
              "\n",
              "    <script>\n",
              "      const buttonEl =\n",
              "        document.querySelector('#df-049729ae-474c-4153-aff1-846bdf4c0129 button.colab-df-convert');\n",
              "      buttonEl.style.display =\n",
              "        google.colab.kernel.accessAllowed ? 'block' : 'none';\n",
              "\n",
              "      async function convertToInteractive(key) {\n",
              "        const element = document.querySelector('#df-049729ae-474c-4153-aff1-846bdf4c0129');\n",
              "        const dataTable =\n",
              "          await google.colab.kernel.invokeFunction('convertToInteractive',\n",
              "                                                    [key], {});\n",
              "        if (!dataTable) return;\n",
              "\n",
              "        const docLinkHtml = 'Like what you see? Visit the ' +\n",
              "          '<a target=\"_blank\" href=https://colab.research.google.com/notebooks/data_table.ipynb>data table notebook</a>'\n",
              "          + ' to learn more about interactive tables.';\n",
              "        element.innerHTML = '';\n",
              "        dataTable['output_type'] = 'display_data';\n",
              "        await google.colab.output.renderOutput(dataTable, element);\n",
              "        const docLink = document.createElement('div');\n",
              "        docLink.innerHTML = docLinkHtml;\n",
              "        element.appendChild(docLink);\n",
              "      }\n",
              "    </script>\n",
              "  </div>\n",
              "\n",
              "\n",
              "<div id=\"df-2af05d19-6deb-48d6-a80f-6c4c0a9046fb\">\n",
              "  <button class=\"colab-df-quickchart\" onclick=\"quickchart('df-2af05d19-6deb-48d6-a80f-6c4c0a9046fb')\"\n",
              "            title=\"Suggest charts\"\n",
              "            style=\"display:none;\">\n",
              "\n",
              "<svg xmlns=\"http://www.w3.org/2000/svg\" height=\"24px\"viewBox=\"0 0 24 24\"\n",
              "     width=\"24px\">\n",
              "    <g>\n",
              "        <path d=\"M19 3H5c-1.1 0-2 .9-2 2v14c0 1.1.9 2 2 2h14c1.1 0 2-.9 2-2V5c0-1.1-.9-2-2-2zM9 17H7v-7h2v7zm4 0h-2V7h2v10zm4 0h-2v-4h2v4z\"/>\n",
              "    </g>\n",
              "</svg>\n",
              "  </button>\n",
              "\n",
              "<style>\n",
              "  .colab-df-quickchart {\n",
              "      --bg-color: #E8F0FE;\n",
              "      --fill-color: #1967D2;\n",
              "      --hover-bg-color: #E2EBFA;\n",
              "      --hover-fill-color: #174EA6;\n",
              "      --disabled-fill-color: #AAA;\n",
              "      --disabled-bg-color: #DDD;\n",
              "  }\n",
              "\n",
              "  [theme=dark] .colab-df-quickchart {\n",
              "      --bg-color: #3B4455;\n",
              "      --fill-color: #D2E3FC;\n",
              "      --hover-bg-color: #434B5C;\n",
              "      --hover-fill-color: #FFFFFF;\n",
              "      --disabled-bg-color: #3B4455;\n",
              "      --disabled-fill-color: #666;\n",
              "  }\n",
              "\n",
              "  .colab-df-quickchart {\n",
              "    background-color: var(--bg-color);\n",
              "    border: none;\n",
              "    border-radius: 50%;\n",
              "    cursor: pointer;\n",
              "    display: none;\n",
              "    fill: var(--fill-color);\n",
              "    height: 32px;\n",
              "    padding: 0;\n",
              "    width: 32px;\n",
              "  }\n",
              "\n",
              "  .colab-df-quickchart:hover {\n",
              "    background-color: var(--hover-bg-color);\n",
              "    box-shadow: 0 1px 2px rgba(60, 64, 67, 0.3), 0 1px 3px 1px rgba(60, 64, 67, 0.15);\n",
              "    fill: var(--button-hover-fill-color);\n",
              "  }\n",
              "\n",
              "  .colab-df-quickchart-complete:disabled,\n",
              "  .colab-df-quickchart-complete:disabled:hover {\n",
              "    background-color: var(--disabled-bg-color);\n",
              "    fill: var(--disabled-fill-color);\n",
              "    box-shadow: none;\n",
              "  }\n",
              "\n",
              "  .colab-df-spinner {\n",
              "    border: 2px solid var(--fill-color);\n",
              "    border-color: transparent;\n",
              "    border-bottom-color: var(--fill-color);\n",
              "    animation:\n",
              "      spin 1s steps(1) infinite;\n",
              "  }\n",
              "\n",
              "  @keyframes spin {\n",
              "    0% {\n",
              "      border-color: transparent;\n",
              "      border-bottom-color: var(--fill-color);\n",
              "      border-left-color: var(--fill-color);\n",
              "    }\n",
              "    20% {\n",
              "      border-color: transparent;\n",
              "      border-left-color: var(--fill-color);\n",
              "      border-top-color: var(--fill-color);\n",
              "    }\n",
              "    30% {\n",
              "      border-color: transparent;\n",
              "      border-left-color: var(--fill-color);\n",
              "      border-top-color: var(--fill-color);\n",
              "      border-right-color: var(--fill-color);\n",
              "    }\n",
              "    40% {\n",
              "      border-color: transparent;\n",
              "      border-right-color: var(--fill-color);\n",
              "      border-top-color: var(--fill-color);\n",
              "    }\n",
              "    60% {\n",
              "      border-color: transparent;\n",
              "      border-right-color: var(--fill-color);\n",
              "    }\n",
              "    80% {\n",
              "      border-color: transparent;\n",
              "      border-right-color: var(--fill-color);\n",
              "      border-bottom-color: var(--fill-color);\n",
              "    }\n",
              "    90% {\n",
              "      border-color: transparent;\n",
              "      border-bottom-color: var(--fill-color);\n",
              "    }\n",
              "  }\n",
              "</style>\n",
              "\n",
              "  <script>\n",
              "    async function quickchart(key) {\n",
              "      const quickchartButtonEl =\n",
              "        document.querySelector('#' + key + ' button');\n",
              "      quickchartButtonEl.disabled = true;  // To prevent multiple clicks.\n",
              "      quickchartButtonEl.classList.add('colab-df-spinner');\n",
              "      try {\n",
              "        const charts = await google.colab.kernel.invokeFunction(\n",
              "            'suggestCharts', [key], {});\n",
              "      } catch (error) {\n",
              "        console.error('Error during call to suggestCharts:', error);\n",
              "      }\n",
              "      quickchartButtonEl.classList.remove('colab-df-spinner');\n",
              "      quickchartButtonEl.classList.add('colab-df-quickchart-complete');\n",
              "    }\n",
              "    (() => {\n",
              "      let quickchartButtonEl =\n",
              "        document.querySelector('#df-2af05d19-6deb-48d6-a80f-6c4c0a9046fb button');\n",
              "      quickchartButtonEl.style.display =\n",
              "        google.colab.kernel.accessAllowed ? 'block' : 'none';\n",
              "    })();\n",
              "  </script>\n",
              "</div>\n",
              "\n",
              "    </div>\n",
              "  </div>\n"
            ],
            "application/vnd.google.colaboratory.intrinsic+json": {
              "type": "dataframe",
              "variable_name": "df_flight",
              "summary": "{\n  \"name\": \"df_flight\",\n  \"rows\": 162,\n  \"fields\": [\n    {\n      \"column\": \"Longitude (degrees)\",\n      \"properties\": {\n        \"dtype\": \"number\",\n        \"std\": 11.78741007576739,\n        \"min\": -50.0,\n        \"max\": -10.07,\n        \"num_unique_values\": 162,\n        \"samples\": [\n          -49.274,\n          -35.705,\n          -41.906\n        ],\n        \"semantic_type\": \"\",\n        \"description\": \"\"\n      }\n    },\n    {\n      \"column\": \"Latitude (degrees)\",\n      \"properties\": {\n        \"dtype\": \"number\",\n        \"std\": 2.098082637874046,\n        \"min\": 55.185,\n        \"max\": 61.089,\n        \"num_unique_values\": 142,\n        \"samples\": [\n          61.056,\n          55.83,\n          59.579\n        ],\n        \"semantic_type\": \"\",\n        \"description\": \"\"\n      }\n    },\n    {\n      \"column\": \"Altitude (feet)\",\n      \"properties\": {\n        \"dtype\": \"number\",\n        \"std\": 0,\n        \"min\": 36000,\n        \"max\": 36000,\n        \"num_unique_values\": 1,\n        \"samples\": [\n          36000\n        ],\n        \"semantic_type\": \"\",\n        \"description\": \"\"\n      }\n    },\n    {\n      \"column\": \"UTC time\",\n      \"properties\": {\n        \"dtype\": \"number\",\n        \"std\": 2809,\n        \"min\": 1546651185,\n        \"max\": 1546660821,\n        \"num_unique_values\": 162,\n        \"samples\": [\n          1546660661\n        ],\n        \"semantic_type\": \"\",\n        \"description\": \"\"\n      }\n    },\n    {\n      \"column\": \"True airspeed (m s-1)\",\n      \"properties\": {\n        \"dtype\": \"number\",\n        \"std\": 7.61272045688892,\n        \"min\": 228.976,\n        \"max\": 255.317,\n        \"num_unique_values\": 162,\n        \"samples\": [\n          255.051\n        ],\n        \"semantic_type\": \"\",\n        \"description\": \"\"\n      }\n    },\n    {\n      \"column\": \"Mach Number\",\n      \"properties\": {\n        \"dtype\": \"number\",\n        \"std\": 0.021234826921737185,\n        \"min\": 0.783,\n        \"max\": 0.862,\n        \"num_unique_values\": 43,\n        \"samples\": [\n          0.824\n        ],\n        \"semantic_type\": \"\",\n        \"description\": \"\"\n      }\n    },\n    {\n      \"column\": \"Aircraft mass (kg)\",\n      \"properties\": {\n        \"dtype\": \"number\",\n        \"std\": 4855.133374213338,\n        \"min\": 219912.051,\n        \"max\": 236479.0,\n        \"num_unique_values\": 162,\n        \"samples\": [\n          220142.92\n        ],\n        \"semantic_type\": \"\",\n        \"description\": \"\"\n      }\n    },\n    {\n      \"column\": \"Fuel mass flow rate (kg s-1)\",\n      \"properties\": {\n        \"dtype\": \"number\",\n        \"std\": 0.21237446437874657,\n        \"min\": 0.309,\n        \"max\": 3.79,\n        \"num_unique_values\": 111,\n        \"samples\": [\n          1.713\n        ],\n        \"semantic_type\": \"\",\n        \"description\": \"\"\n      }\n    },\n    {\n      \"column\": \"Overall propulsion efficiency\",\n      \"properties\": {\n        \"dtype\": \"number\",\n        \"std\": 1.0022990264114368e-15,\n        \"min\": 0.4,\n        \"max\": 0.4,\n        \"num_unique_values\": 1,\n        \"samples\": [\n          0.4\n        ],\n        \"semantic_type\": \"\",\n        \"description\": \"\"\n      }\n    },\n    {\n      \"column\": \"nvPM number emissions index (kg-1)\",\n      \"properties\": {\n        \"dtype\": \"number\",\n        \"std\": 0,\n        \"min\": 1500000000000000,\n        \"max\": 1500000000000000,\n        \"num_unique_values\": 1,\n        \"samples\": [\n          1500000000000000\n        ],\n        \"semantic_type\": \"\",\n        \"description\": \"\"\n      }\n    },\n    {\n      \"column\": \"ICAO Aircraft Type\",\n      \"properties\": {\n        \"dtype\": \"category\",\n        \"num_unique_values\": 1,\n        \"samples\": [\n          \"A359\"\n        ],\n        \"semantic_type\": \"\",\n        \"description\": \"\"\n      }\n    },\n    {\n      \"column\": \"Wingspan (m)\",\n      \"properties\": {\n        \"dtype\": \"number\",\n        \"std\": 0.0,\n        \"min\": 64.75,\n        \"max\": 64.75,\n        \"num_unique_values\": 1,\n        \"samples\": [\n          64.75\n        ],\n        \"semantic_type\": \"\",\n        \"description\": \"\"\n      }\n    }\n  ]\n}"
            }
          },
          "metadata": {},
          "execution_count": 5
        }
      ],
      "source": [
        "# load flight waypoints\n",
        "df_flight = pd.read_csv(\"/content/sample_data/flight-cocip.csv\")\n",
        "df_flight.head()"
      ]
    },
    {
      "cell_type": "code",
      "execution_count": 6,
      "id": "502042cf-47f5-4a1c-876b-5f074e641c4b",
      "metadata": {
        "id": "502042cf-47f5-4a1c-876b-5f074e641c4b"
      },
      "outputs": [],
      "source": [
        "# constant properties along the length of the flight\n",
        "attrs = {\n",
        "    \"flight_id\": \"fid\",\n",
        "    \"aircraft_type\": df_flight[\"ICAO Aircraft Type\"].values[0],\n",
        "    \"wingspan\": df_flight[\"Wingspan (m)\"].values[0],\n",
        "}"
      ]
    },
    {
      "cell_type": "markdown",
      "id": "7dc81306-085c-4099-bc26-6b19adbd73ab",
      "metadata": {
        "id": "7dc81306-085c-4099-bc26-6b19adbd73ab"
      },
      "source": [
        "Process the flight into a format expected by `pycontrails`. See [pycontrails.Flight](https://py.contrails.org/api/pycontrails.Flight.html#pycontrails.Flight) for interface details."
      ]
    },
    {
      "cell_type": "code",
      "execution_count": 7,
      "id": "83f1b263-9bc4-4dbd-9e03-7a2717bf9bc7",
      "metadata": {
        "collapsed": true,
        "colab": {
          "base_uri": "https://localhost:8080/",
          "height": 998
        },
        "id": "83f1b263-9bc4-4dbd-9e03-7a2717bf9bc7",
        "outputId": "18fc5326-8ea1-43d4-efb0-3032620d9c73"
      },
      "outputs": [
        {
          "output_type": "execute_result",
          "data": {
            "text/plain": [
              "Flight [10 keys x 162 length, 3 attributes]\n",
              "\tKeys: longitude, latitude, true_airspeed, mach_number, aircraft_mass, ..., time\n",
              "\tAttributes:\n",
              "\ttime                [2019-01-05 01:19:45, 2019-01-05 04:00:21]\n",
              "\tlongitude           [-50.0, -10.07]\n",
              "\tlatitude            [55.185, 61.089]\n",
              "\taltitude            [10972.8, 10972.8]\n",
              "\tflight_id           fid\n",
              "\taircraft_type       A359\n",
              "\twingspan            64.75"
            ],
            "text/html": [
              "<b>Flight</b> [10 keys x 162 length, 3 attributes]<br/ ><br/><table><tr style=\"border-bottom:1px solid silver\"><th colspan=\"2\">Attributes</th></tr><tr><td>time</td><td>[2019-01-05 01:19:45, 2019-01-05 04:00:21]</td></tr><tr><td>longitude</td><td>[-50.0, -10.07]</td></tr><tr><td>latitude</td><td>[55.185, 61.089]</td></tr><tr><td>altitude</td><td>[10972.8, 10972.8]</td></tr><tr><td>flight_id</td><td>fid</td></tr><tr><td>aircraft_type</td><td>A359</td></tr><tr><td>wingspan</td><td>64.75</td></tr></table><div>\n",
              "<style scoped>\n",
              "    .dataframe tbody tr th:only-of-type {\n",
              "        vertical-align: middle;\n",
              "    }\n",
              "\n",
              "    .dataframe tbody tr th {\n",
              "        vertical-align: top;\n",
              "    }\n",
              "\n",
              "    .dataframe thead th {\n",
              "        text-align: right;\n",
              "    }\n",
              "</style>\n",
              "<table border=\"1\" class=\"dataframe\">\n",
              "  <thead>\n",
              "    <tr style=\"text-align: right;\">\n",
              "      <th></th>\n",
              "      <th>longitude</th>\n",
              "      <th>latitude</th>\n",
              "      <th>true_airspeed</th>\n",
              "      <th>mach_number</th>\n",
              "      <th>aircraft_mass</th>\n",
              "      <th>fuel_flow</th>\n",
              "      <th>engine_efficiency</th>\n",
              "      <th>nvpm_ei_n</th>\n",
              "      <th>altitude</th>\n",
              "      <th>time</th>\n",
              "    </tr>\n",
              "  </thead>\n",
              "  <tbody>\n",
              "    <tr>\n",
              "      <th>0</th>\n",
              "      <td>-10.070</td>\n",
              "      <td>55.185</td>\n",
              "      <td>230.858</td>\n",
              "      <td>0.791</td>\n",
              "      <td>236479.000</td>\n",
              "      <td>1.654</td>\n",
              "      <td>0.4</td>\n",
              "      <td>1500000000000000</td>\n",
              "      <td>10972.8</td>\n",
              "      <td>2019-01-05 01:19:45</td>\n",
              "    </tr>\n",
              "    <tr>\n",
              "      <th>1</th>\n",
              "      <td>-10.273</td>\n",
              "      <td>55.222</td>\n",
              "      <td>230.682</td>\n",
              "      <td>0.790</td>\n",
              "      <td>236379.755</td>\n",
              "      <td>1.657</td>\n",
              "      <td>0.4</td>\n",
              "      <td>1500000000000000</td>\n",
              "      <td>10972.8</td>\n",
              "      <td>2019-01-05 01:20:45</td>\n",
              "    </tr>\n",
              "    <tr>\n",
              "      <th>2</th>\n",
              "      <td>-10.476</td>\n",
              "      <td>55.258</td>\n",
              "      <td>230.563</td>\n",
              "      <td>0.789</td>\n",
              "      <td>236280.355</td>\n",
              "      <td>1.659</td>\n",
              "      <td>0.4</td>\n",
              "      <td>1500000000000000</td>\n",
              "      <td>10972.8</td>\n",
              "      <td>2019-01-05 01:21:45</td>\n",
              "    </tr>\n",
              "    <tr>\n",
              "      <th>3</th>\n",
              "      <td>-10.680</td>\n",
              "      <td>55.295</td>\n",
              "      <td>230.501</td>\n",
              "      <td>0.789</td>\n",
              "      <td>236180.791</td>\n",
              "      <td>1.661</td>\n",
              "      <td>0.4</td>\n",
              "      <td>1500000000000000</td>\n",
              "      <td>10972.8</td>\n",
              "      <td>2019-01-05 01:22:45</td>\n",
              "    </tr>\n",
              "    <tr>\n",
              "      <th>4</th>\n",
              "      <td>-10.883</td>\n",
              "      <td>55.331</td>\n",
              "      <td>230.476</td>\n",
              "      <td>0.789</td>\n",
              "      <td>236081.128</td>\n",
              "      <td>1.662</td>\n",
              "      <td>0.4</td>\n",
              "      <td>1500000000000000</td>\n",
              "      <td>10972.8</td>\n",
              "      <td>2019-01-05 01:23:45</td>\n",
              "    </tr>\n",
              "    <tr>\n",
              "      <th>...</th>\n",
              "      <td>...</td>\n",
              "      <td>...</td>\n",
              "      <td>...</td>\n",
              "      <td>...</td>\n",
              "      <td>...</td>\n",
              "      <td>...</td>\n",
              "      <td>...</td>\n",
              "      <td>...</td>\n",
              "      <td>...</td>\n",
              "      <td>...</td>\n",
              "    </tr>\n",
              "    <tr>\n",
              "      <th>157</th>\n",
              "      <td>-49.002</td>\n",
              "      <td>61.027</td>\n",
              "      <td>254.806</td>\n",
              "      <td>0.860</td>\n",
              "      <td>220251.787</td>\n",
              "      <td>1.814</td>\n",
              "      <td>0.4</td>\n",
              "      <td>1500000000000000</td>\n",
              "      <td>10972.8</td>\n",
              "      <td>2019-01-05 03:56:41</td>\n",
              "    </tr>\n",
              "    <tr>\n",
              "      <th>158</th>\n",
              "      <td>-49.274</td>\n",
              "      <td>61.019</td>\n",
              "      <td>255.051</td>\n",
              "      <td>0.861</td>\n",
              "      <td>220142.920</td>\n",
              "      <td>1.830</td>\n",
              "      <td>0.4</td>\n",
              "      <td>1500000000000000</td>\n",
              "      <td>10972.8</td>\n",
              "      <td>2019-01-05 03:57:41</td>\n",
              "    </tr>\n",
              "    <tr>\n",
              "      <th>159</th>\n",
              "      <td>-49.546</td>\n",
              "      <td>61.010</td>\n",
              "      <td>255.317</td>\n",
              "      <td>0.862</td>\n",
              "      <td>220033.115</td>\n",
              "      <td>1.811</td>\n",
              "      <td>0.4</td>\n",
              "      <td>1500000000000000</td>\n",
              "      <td>10972.8</td>\n",
              "      <td>2019-01-05 03:58:41</td>\n",
              "    </tr>\n",
              "    <tr>\n",
              "      <th>160</th>\n",
              "      <td>-49.818</td>\n",
              "      <td>61.000</td>\n",
              "      <td>255.063</td>\n",
              "      <td>0.862</td>\n",
              "      <td>219924.426</td>\n",
              "      <td>0.309</td>\n",
              "      <td>0.4</td>\n",
              "      <td>1500000000000000</td>\n",
              "      <td>10972.8</td>\n",
              "      <td>2019-01-05 03:59:41</td>\n",
              "    </tr>\n",
              "    <tr>\n",
              "      <th>161</th>\n",
              "      <td>-50.000</td>\n",
              "      <td>61.000</td>\n",
              "      <td>235.015</td>\n",
              "      <td>0.794</td>\n",
              "      <td>219912.051</td>\n",
              "      <td>1.567</td>\n",
              "      <td>0.4</td>\n",
              "      <td>1500000000000000</td>\n",
              "      <td>10972.8</td>\n",
              "      <td>2019-01-05 04:00:21</td>\n",
              "    </tr>\n",
              "  </tbody>\n",
              "</table>\n",
              "<p>162 rows × 10 columns</p>\n",
              "</div>"
            ]
          },
          "metadata": {},
          "execution_count": 7
        }
      ],
      "source": [
        "# convert UTC timestamp to np.datetime64\n",
        "df_flight[\"time\"] = pd.to_datetime(df_flight[\"UTC time\"], origin=\"unix\", unit=\"s\")\n",
        "\n",
        "# set altitude in m\n",
        "df_flight[\"altitude\"] = units.ft_to_m(df_flight[\"Altitude (feet)\"])\n",
        "\n",
        "# rename a few columns for compatibility with `Flight` requirements\n",
        "df_flight = df_flight.rename(\n",
        "    columns={\n",
        "        \"Longitude (degrees)\": \"longitude\",\n",
        "        \"Latitude (degrees)\": \"latitude\",\n",
        "        \"True airspeed (m s-1)\": \"true_airspeed\",\n",
        "        \"Mach Number\": \"mach_number\",\n",
        "        \"Aircraft mass (kg)\": \"aircraft_mass\",\n",
        "        \"Fuel mass flow rate (kg s-1)\": \"fuel_flow\",\n",
        "        \"Overall propulsion efficiency\": \"engine_efficiency\",\n",
        "        \"nvPM number emissions index (kg-1)\": \"nvpm_ei_n\",\n",
        "    }\n",
        ")\n",
        "\n",
        "# clean up a few columns before building Flight class\n",
        "df_flight = df_flight.drop(\n",
        "    columns=[\"ICAO Aircraft Type\", \"Wingspan (m)\", \"UTC time\", \"Altitude (feet)\"]\n",
        ")\n",
        "\n",
        "fl = Flight(data=df_flight, attrs=attrs)\n",
        "fl"
      ]
    },
    {
      "cell_type": "markdown",
      "id": "36e6384d-3ebf-4913-890a-f00965a492e1",
      "metadata": {
        "tags": [],
        "id": "36e6384d-3ebf-4913-890a-f00965a492e1"
      },
      "source": [
        "## Load meteorology from ECMWF"
      ]
    },
    {
      "cell_type": "code",
      "execution_count": 8,
      "id": "b0e5d5a1-bd60-4ef7-8e5b-299db7f6ace6",
      "metadata": {
        "colab": {
          "base_uri": "https://localhost:8080/"
        },
        "id": "b0e5d5a1-bd60-4ef7-8e5b-299db7f6ace6",
        "outputId": "f1eebbea-6aaa-46ed-feca-0fac83817ac8"
      },
      "outputs": [
        {
          "output_type": "stream",
          "name": "stderr",
          "text": [
            "<ipython-input-8-703c643b8a43>:3: FutureWarning: 'H' is deprecated and will be removed in a future version, please use 'h' instead.\n",
            "  pd.to_datetime(fl[\"time\"][0]).floor(\"H\"),\n",
            "<ipython-input-8-703c643b8a43>:4: FutureWarning: 'H' is deprecated and will be removed in a future version, please use 'h' instead.\n",
            "  pd.to_datetime(fl[\"time\"][-1]).ceil(\"H\") + pd.Timedelta(\"10H\"),\n",
            "<ipython-input-8-703c643b8a43>:4: FutureWarning: 'H' is deprecated and will be removed in a future version. Please use 'h' instead of 'H'.\n",
            "  pd.to_datetime(fl[\"time\"][-1]).ceil(\"H\") + pd.Timedelta(\"10H\"),\n"
          ]
        }
      ],
      "source": [
        "# get met domain from Flight\n",
        "time = (\n",
        "    pd.to_datetime(fl[\"time\"][0]).floor(\"H\"),\n",
        "    pd.to_datetime(fl[\"time\"][-1]).ceil(\"H\") + pd.Timedelta(\"10H\"),\n",
        ")\n",
        "\n",
        "# select pressure levels\n",
        "pressure_levels = [\n",
        "    400,\n",
        "    350,\n",
        "    300,\n",
        "    250,\n",
        "    225,\n",
        "    200,\n",
        "    175,\n",
        "    150,\n",
        "]"
      ]
    },
    {
      "cell_type": "code",
      "execution_count": 9,
      "id": "a1b248a0-dec3-42b5-8bc8-2943a80630d0",
      "metadata": {
        "id": "a1b248a0-dec3-42b5-8bc8-2943a80630d0"
      },
      "outputs": [],
      "source": [
        "# downloads met data from CDS\n",
        "era5pl = ERA5(time=time, variables=Cocip.met_variables, pressure_levels=pressure_levels)\n",
        "era5sl = ERA5(\n",
        "    time=time,\n",
        "    variables=Cocip.rad_variables,\n",
        ")\n",
        "time = (\"2022-03-01 00:00:00\", \"2022-03-01 03:00:00\")\n",
        "variables = [\"t\", \"q\", \"u\", \"v\", \"w\", \"ciwc\", \"z\", \"cc\"]\n",
        "pressure_levels = [300, 250, 200]"
      ]
    },
    {
      "cell_type": "code",
      "source": [
        "!pip install cdsapi"
      ],
      "metadata": {
        "colab": {
          "base_uri": "https://localhost:8080/"
        },
        "id": "iDPH2hANq8mR",
        "outputId": "d3dc57c8-ed67-47f2-90b9-87d5f2ae5d37"
      },
      "id": "iDPH2hANq8mR",
      "execution_count": 53,
      "outputs": [
        {
          "output_type": "stream",
          "name": "stdout",
          "text": [
            "Requirement already satisfied: cdsapi in /usr/local/lib/python3.11/dist-packages (0.7.5)\n",
            "Requirement already satisfied: datapi in /usr/local/lib/python3.11/dist-packages (from cdsapi) (0.2.0)\n",
            "Requirement already satisfied: requests>=2.5.0 in /usr/local/lib/python3.11/dist-packages (from cdsapi) (2.32.3)\n",
            "Requirement already satisfied: tqdm in /usr/local/lib/python3.11/dist-packages (from cdsapi) (4.67.1)\n",
            "Requirement already satisfied: charset-normalizer<4,>=2 in /usr/local/lib/python3.11/dist-packages (from requests>=2.5.0->cdsapi) (3.4.1)\n",
            "Requirement already satisfied: idna<4,>=2.5 in /usr/local/lib/python3.11/dist-packages (from requests>=2.5.0->cdsapi) (3.10)\n",
            "Requirement already satisfied: urllib3<3,>=1.21.1 in /usr/local/lib/python3.11/dist-packages (from requests>=2.5.0->cdsapi) (2.3.0)\n",
            "Requirement already satisfied: certifi>=2017.4.17 in /usr/local/lib/python3.11/dist-packages (from requests>=2.5.0->cdsapi) (2025.1.31)\n",
            "Requirement already satisfied: attrs in /usr/local/lib/python3.11/dist-packages (from datapi->cdsapi) (25.1.0)\n",
            "Requirement already satisfied: multiurl>=0.3.2 in /usr/local/lib/python3.11/dist-packages (from datapi->cdsapi) (0.3.3)\n",
            "Requirement already satisfied: typing-extensions in /usr/local/lib/python3.11/dist-packages (from datapi->cdsapi) (4.12.2)\n",
            "Requirement already satisfied: pytz in /usr/local/lib/python3.11/dist-packages (from multiurl>=0.3.2->datapi->cdsapi) (2025.1)\n",
            "Requirement already satisfied: python-dateutil in /usr/local/lib/python3.11/dist-packages (from multiurl>=0.3.2->datapi->cdsapi) (2.8.2)\n",
            "Requirement already satisfied: six>=1.5 in /usr/local/lib/python3.11/dist-packages (from python-dateutil->multiurl>=0.3.2->datapi->cdsapi) (1.17.0)\n"
          ]
        }
      ]
    },
    {
      "cell_type": "code",
      "source": [
        "with open('/root/.cdsapirc') as f:\n",
        "  print(f.read())"
      ],
      "metadata": {
        "id": "xX-mn6c_nWW1",
        "outputId": "c11ad9b1-b47c-4180-a7b4-bb4b430b6ed2",
        "colab": {
          "base_uri": "https://localhost:8080/"
        }
      },
      "id": "xX-mn6c_nWW1",
      "execution_count": 25,
      "outputs": [
        {
          "output_type": "stream",
          "name": "stdout",
          "text": [
            "url:https://cds.climate.copernicus.eu/api\n",
            "key:0956d699f29b6154c34148315839248c\n"
          ]
        }
      ]
    },
    {
      "cell_type": "code",
      "source": [
        "import cdsapi\n",
        "import xarray as xr\n",
        "\n",
        "c = cdsapi.Client()\n",
        "\n",
        "c.retrieve(\n",
        "    'reanalysis-era5-pressure-levels',\n",
        "    {\n",
        "        'product_type': 'reanalysis',\n",
        "        'variable': ['temperature', 'specific_humidity', 'u_component_of_wind', 'v_component_of_wind'],\n",
        "        'pressure_level': ['350', '300'],\n",
        "        'year': '2023',\n",
        "        'month': '01',\n",
        "        'day': '01',\n",
        "        'time': ['00:00', '01:00', '02:00', '03:00'],\n",
        "        'format': 'netcdf'\n",
        "    },\n",
        "    'download.nc')\n",
        "\n",
        "ds = xr.open_dataset('download.nc')"
      ],
      "metadata": {
        "id": "dGvgRrkbnC38",
        "outputId": "68b535a9-7153-4649-ab32-204d290826c9",
        "colab": {
          "base_uri": "https://localhost:8080/",
          "height": 581
        }
      },
      "id": "dGvgRrkbnC38",
      "execution_count": 24,
      "outputs": [
        {
          "output_type": "stream",
          "name": "stderr",
          "text": [
            "2025-02-11 20:03:49,158 INFO [2024-09-26T00:00:00] Watch our [Forum](https://forum.ecmwf.int/) for Announcements, news and other discussed topics.\n",
            "INFO:datapi.legacy_api_client:[2024-09-26T00:00:00] Watch our [Forum](https://forum.ecmwf.int/) for Announcements, news and other discussed topics.\n",
            "2025-02-11 20:03:49,163 WARNING [2024-06-16T00:00:00] CDS API syntax is changed and some keys or parameter names may have also changed. To avoid requests failing, please use the \"Show API request code\" tool on the dataset Download Form to check you are using the correct syntax for your API request.\n",
            "WARNING:datapi.legacy_api_client:[2024-06-16T00:00:00] CDS API syntax is changed and some keys or parameter names may have also changed. To avoid requests failing, please use the \"Show API request code\" tool on the dataset Download Form to check you are using the correct syntax for your API request.\n"
          ]
        },
        {
          "output_type": "error",
          "ename": "HTTPError",
          "evalue": "401 Client Error: Unauthorized for url: https://cds.climate.copernicus.eu/api/retrieve/v1/processes/reanalysis-era5-pressure-levels/execution\nAuthentication failed\noperation not allowed",
          "traceback": [
            "\u001b[0;31m---------------------------------------------------------------------------\u001b[0m",
            "\u001b[0;31mHTTPError\u001b[0m                                 Traceback (most recent call last)",
            "\u001b[0;32m<ipython-input-24-dc097a9d33cf>\u001b[0m in \u001b[0;36m<cell line: 0>\u001b[0;34m()\u001b[0m\n\u001b[1;32m      4\u001b[0m \u001b[0mc\u001b[0m \u001b[0;34m=\u001b[0m \u001b[0mcdsapi\u001b[0m\u001b[0;34m.\u001b[0m\u001b[0mClient\u001b[0m\u001b[0;34m(\u001b[0m\u001b[0;34m)\u001b[0m\u001b[0;34m\u001b[0m\u001b[0;34m\u001b[0m\u001b[0m\n\u001b[1;32m      5\u001b[0m \u001b[0;34m\u001b[0m\u001b[0m\n\u001b[0;32m----> 6\u001b[0;31m c.retrieve(\n\u001b[0m\u001b[1;32m      7\u001b[0m     \u001b[0;34m'reanalysis-era5-pressure-levels'\u001b[0m\u001b[0;34m,\u001b[0m\u001b[0;34m\u001b[0m\u001b[0;34m\u001b[0m\u001b[0m\n\u001b[1;32m      8\u001b[0m     {\n",
            "\u001b[0;32m/usr/local/lib/python3.11/dist-packages/datapi/legacy_api_client.py\u001b[0m in \u001b[0;36mretrieve\u001b[0;34m(self, name, request, target)\u001b[0m\n\u001b[1;32m    167\u001b[0m         \u001b[0msubmitted\u001b[0m\u001b[0;34m:\u001b[0m \u001b[0mRemote\u001b[0m \u001b[0;34m|\u001b[0m \u001b[0mResults\u001b[0m\u001b[0;34m\u001b[0m\u001b[0;34m\u001b[0m\u001b[0m\n\u001b[1;32m    168\u001b[0m         \u001b[0;32mif\u001b[0m \u001b[0mself\u001b[0m\u001b[0;34m.\u001b[0m\u001b[0mwait_until_complete\u001b[0m\u001b[0;34m:\u001b[0m\u001b[0;34m\u001b[0m\u001b[0;34m\u001b[0m\u001b[0m\n\u001b[0;32m--> 169\u001b[0;31m             submitted = self.client.submit_and_wait_on_results(\n\u001b[0m\u001b[1;32m    170\u001b[0m                 \u001b[0mcollection_id\u001b[0m\u001b[0;34m=\u001b[0m\u001b[0mname\u001b[0m\u001b[0;34m,\u001b[0m\u001b[0;34m\u001b[0m\u001b[0;34m\u001b[0m\u001b[0m\n\u001b[1;32m    171\u001b[0m                 \u001b[0mrequest\u001b[0m\u001b[0;34m=\u001b[0m\u001b[0mrequest\u001b[0m\u001b[0;34m,\u001b[0m\u001b[0;34m\u001b[0m\u001b[0;34m\u001b[0m\u001b[0m\n",
            "\u001b[0;32m/usr/local/lib/python3.11/dist-packages/datapi/api_client.py\u001b[0m in \u001b[0;36msubmit_and_wait_on_results\u001b[0;34m(self, collection_id, request)\u001b[0m\n\u001b[1;32m    411\u001b[0m         \u001b[0mdatapi\u001b[0m\u001b[0;34m.\u001b[0m\u001b[0mResults\u001b[0m\u001b[0;34m\u001b[0m\u001b[0;34m\u001b[0m\u001b[0m\n\u001b[1;32m    412\u001b[0m         \"\"\"\n\u001b[0;32m--> 413\u001b[0;31m         \u001b[0;32mreturn\u001b[0m \u001b[0mself\u001b[0m\u001b[0;34m.\u001b[0m\u001b[0m_retrieve_api\u001b[0m\u001b[0;34m.\u001b[0m\u001b[0msubmit\u001b[0m\u001b[0;34m(\u001b[0m\u001b[0mcollection_id\u001b[0m\u001b[0;34m,\u001b[0m \u001b[0mrequest\u001b[0m\u001b[0;34m)\u001b[0m\u001b[0;34m.\u001b[0m\u001b[0mmake_results\u001b[0m\u001b[0;34m(\u001b[0m\u001b[0;34m)\u001b[0m\u001b[0;34m\u001b[0m\u001b[0;34m\u001b[0m\u001b[0m\n\u001b[0m\u001b[1;32m    414\u001b[0m \u001b[0;34m\u001b[0m\u001b[0m\n\u001b[1;32m    415\u001b[0m     \u001b[0;32mdef\u001b[0m \u001b[0munstar_collection\u001b[0m\u001b[0;34m(\u001b[0m\u001b[0mself\u001b[0m\u001b[0;34m,\u001b[0m \u001b[0mcollection_id\u001b[0m\u001b[0;34m:\u001b[0m \u001b[0mstr\u001b[0m\u001b[0;34m)\u001b[0m \u001b[0;34m->\u001b[0m \u001b[0;32mNone\u001b[0m\u001b[0;34m:\u001b[0m\u001b[0;34m\u001b[0m\u001b[0;34m\u001b[0m\u001b[0m\n",
            "\u001b[0;32m/usr/local/lib/python3.11/dist-packages/datapi/processing.py\u001b[0m in \u001b[0;36msubmit\u001b[0;34m(self, collection_id, request)\u001b[0m\n\u001b[1;32m    725\u001b[0m \u001b[0;34m\u001b[0m\u001b[0m\n\u001b[1;32m    726\u001b[0m     \u001b[0;32mdef\u001b[0m \u001b[0msubmit\u001b[0m\u001b[0;34m(\u001b[0m\u001b[0mself\u001b[0m\u001b[0;34m,\u001b[0m \u001b[0mcollection_id\u001b[0m\u001b[0;34m:\u001b[0m \u001b[0mstr\u001b[0m\u001b[0;34m,\u001b[0m \u001b[0mrequest\u001b[0m\u001b[0;34m:\u001b[0m \u001b[0mdict\u001b[0m\u001b[0;34m[\u001b[0m\u001b[0mstr\u001b[0m\u001b[0;34m,\u001b[0m \u001b[0mAny\u001b[0m\u001b[0;34m]\u001b[0m\u001b[0;34m)\u001b[0m \u001b[0;34m->\u001b[0m \u001b[0mRemote\u001b[0m\u001b[0;34m:\u001b[0m\u001b[0;34m\u001b[0m\u001b[0;34m\u001b[0m\u001b[0m\n\u001b[0;32m--> 727\u001b[0;31m         \u001b[0;32mreturn\u001b[0m \u001b[0mself\u001b[0m\u001b[0;34m.\u001b[0m\u001b[0mget_process\u001b[0m\u001b[0;34m(\u001b[0m\u001b[0mcollection_id\u001b[0m\u001b[0;34m)\u001b[0m\u001b[0;34m.\u001b[0m\u001b[0msubmit\u001b[0m\u001b[0;34m(\u001b[0m\u001b[0mrequest\u001b[0m\u001b[0;34m)\u001b[0m\u001b[0;34m\u001b[0m\u001b[0;34m\u001b[0m\u001b[0m\n\u001b[0m",
            "\u001b[0;32m/usr/local/lib/python3.11/dist-packages/datapi/processing.py\u001b[0m in \u001b[0;36msubmit\u001b[0;34m(self, request)\u001b[0m\n\u001b[1;32m    317\u001b[0m         \u001b[0mdatapi\u001b[0m\u001b[0;34m.\u001b[0m\u001b[0mRemote\u001b[0m\u001b[0;34m\u001b[0m\u001b[0;34m\u001b[0m\u001b[0m\n\u001b[1;32m    318\u001b[0m         \"\"\"\n\u001b[0;32m--> 319\u001b[0;31m         job = Job.from_request(\n\u001b[0m\u001b[1;32m    320\u001b[0m             \u001b[0;34m\"post\"\u001b[0m\u001b[0;34m,\u001b[0m\u001b[0;34m\u001b[0m\u001b[0;34m\u001b[0m\u001b[0m\n\u001b[1;32m    321\u001b[0m             \u001b[0;34mf\"{self.url}/execution\"\u001b[0m\u001b[0;34m,\u001b[0m\u001b[0;34m\u001b[0m\u001b[0;34m\u001b[0m\u001b[0m\n",
            "\u001b[0;32m/usr/local/lib/python3.11/dist-packages/datapi/processing.py\u001b[0m in \u001b[0;36mfrom_request\u001b[0;34m(cls, method, url, headers, session, retry_options, request_options, download_options, sleep_max, cleanup, log_callback, log_messages, **kwargs)\u001b[0m\n\u001b[1;32m    175\u001b[0m         \u001b[0mlog\u001b[0m\u001b[0;34m(\u001b[0m\u001b[0mlogging\u001b[0m\u001b[0;34m.\u001b[0m\u001b[0mDEBUG\u001b[0m\u001b[0;34m,\u001b[0m \u001b[0;34mf\"REPLY {response.text}\"\u001b[0m\u001b[0;34m,\u001b[0m \u001b[0mcallback\u001b[0m\u001b[0;34m=\u001b[0m\u001b[0mlog_callback\u001b[0m\u001b[0;34m)\u001b[0m\u001b[0;34m\u001b[0m\u001b[0;34m\u001b[0m\u001b[0m\n\u001b[1;32m    176\u001b[0m \u001b[0;34m\u001b[0m\u001b[0m\n\u001b[0;32m--> 177\u001b[0;31m         \u001b[0mcads_raise_for_status\u001b[0m\u001b[0;34m(\u001b[0m\u001b[0mresponse\u001b[0m\u001b[0;34m)\u001b[0m\u001b[0;34m\u001b[0m\u001b[0;34m\u001b[0m\u001b[0m\n\u001b[0m\u001b[1;32m    178\u001b[0m \u001b[0;34m\u001b[0m\u001b[0m\n\u001b[1;32m    179\u001b[0m         self = cls(\n",
            "\u001b[0;32m/usr/local/lib/python3.11/dist-packages/datapi/processing.py\u001b[0m in \u001b[0;36mcads_raise_for_status\u001b[0;34m(response)\u001b[0m\n\u001b[1;32m     98\u001b[0m                 ]\n\u001b[1;32m     99\u001b[0m             )\n\u001b[0;32m--> 100\u001b[0;31m             \u001b[0;32mraise\u001b[0m \u001b[0mrequests\u001b[0m\u001b[0;34m.\u001b[0m\u001b[0mHTTPError\u001b[0m\u001b[0;34m(\u001b[0m\u001b[0mmessage\u001b[0m\u001b[0;34m,\u001b[0m \u001b[0mresponse\u001b[0m\u001b[0;34m=\u001b[0m\u001b[0mresponse\u001b[0m\u001b[0;34m)\u001b[0m\u001b[0;34m\u001b[0m\u001b[0;34m\u001b[0m\u001b[0m\n\u001b[0m\u001b[1;32m    101\u001b[0m     \u001b[0mresponse\u001b[0m\u001b[0;34m.\u001b[0m\u001b[0mraise_for_status\u001b[0m\u001b[0;34m(\u001b[0m\u001b[0;34m)\u001b[0m\u001b[0;34m\u001b[0m\u001b[0;34m\u001b[0m\u001b[0m\n\u001b[1;32m    102\u001b[0m \u001b[0;34m\u001b[0m\u001b[0m\n",
            "\u001b[0;31mHTTPError\u001b[0m: 401 Client Error: Unauthorized for url: https://cds.climate.copernicus.eu/api/retrieve/v1/processes/reanalysis-era5-pressure-levels/execution\nAuthentication failed\noperation not allowed"
          ]
        }
      ]
    },
    {
      "cell_type": "code",
      "source": [
        "!ping cds.climate.copernicus.eu"
      ],
      "metadata": {
        "id": "vaV99KI2UVU4",
        "outputId": "1003a35a-87a1-4ff9-d44d-afc74c0413fb",
        "colab": {
          "base_uri": "https://localhost:8080/"
        }
      },
      "id": "vaV99KI2UVU4",
      "execution_count": 23,
      "outputs": [
        {
          "output_type": "stream",
          "name": "stdout",
          "text": [
            "/bin/bash: line 1: ping: command not found\n"
          ]
        }
      ]
    },
    {
      "cell_type": "code",
      "source": [
        "from pycontrails.datalib.ecmwf import ERA5\n",
        "\n",
        "time = (\"2022-03-01 00:00:00\", \"2022-03-01 23:00:00\")\n",
        "pressure_levels = [350, 300, 250, 225, 200, 175, 150]\n",
        "met_variables = [\"t\", \"q\", \"u\", \"v\", \"w\", \"ciwc\", \"z\", \"cc\"]\n",
        "rad_variables = [\"tsr\", \"ttr\"]\n",
        "\n",
        "ERA5(time=time, variables=met_variables, pressure_levels=pressure_levels).open_metdataset()\n",
        "# ERA5(time=time, variables=rad_variables)()\n"
      ],
      "metadata": {
        "colab": {
          "base_uri": "https://localhost:8080/",
          "height": 599
        },
        "id": "erRUB0W2nPKL",
        "outputId": "c696b049-b607-4a0c-da4f-d5ee1fce0f55"
      },
      "id": "erRUB0W2nPKL",
      "execution_count": 21,
      "outputs": [
        {
          "output_type": "stream",
          "name": "stderr",
          "text": [
            "2025-02-11 18:39:01,593 INFO [2024-09-26T00:00:00] Watch our [Forum](https://forum.ecmwf.int/) for Announcements, news and other discussed topics.\n",
            "INFO:datapi.legacy_api_client:[2024-09-26T00:00:00] Watch our [Forum](https://forum.ecmwf.int/) for Announcements, news and other discussed topics.\n",
            "2025-02-11 18:39:01,596 WARNING [2024-06-16T00:00:00] CDS API syntax is changed and some keys or parameter names may have also changed. To avoid requests failing, please use the \"Show API request code\" tool on the dataset Download Form to check you are using the correct syntax for your API request.\n",
            "WARNING:datapi.legacy_api_client:[2024-06-16T00:00:00] CDS API syntax is changed and some keys or parameter names may have also changed. To avoid requests failing, please use the \"Show API request code\" tool on the dataset Download Form to check you are using the correct syntax for your API request.\n",
            "WARNING:pycontrails.utils.temp:Failed to delete temp file /tmp/19659a0fe2dea2649e755561f5f4eb7075b27d8f2a5bf43c with error [Errno 2] No such file or directory: '/tmp/19659a0fe2dea2649e755561f5f4eb7075b27d8f2a5bf43c'\n"
          ]
        },
        {
          "output_type": "error",
          "ename": "HTTPError",
          "evalue": "401 Client Error: Unauthorized for url: https://cds.climate.copernicus.eu/api/retrieve/v1/processes/reanalysis-era5-pressure-levels/execution\nAuthentication failed\noperation not allowed",
          "traceback": [
            "\u001b[0;31m---------------------------------------------------------------------------\u001b[0m",
            "\u001b[0;31mHTTPError\u001b[0m                                 Traceback (most recent call last)",
            "\u001b[0;32m<ipython-input-21-bb3d439d205d>\u001b[0m in \u001b[0;36m<cell line: 0>\u001b[0;34m()\u001b[0m\n\u001b[1;32m      6\u001b[0m \u001b[0mrad_variables\u001b[0m \u001b[0;34m=\u001b[0m \u001b[0;34m[\u001b[0m\u001b[0;34m\"tsr\"\u001b[0m\u001b[0;34m,\u001b[0m \u001b[0;34m\"ttr\"\u001b[0m\u001b[0;34m]\u001b[0m\u001b[0;34m\u001b[0m\u001b[0;34m\u001b[0m\u001b[0m\n\u001b[1;32m      7\u001b[0m \u001b[0;34m\u001b[0m\u001b[0m\n\u001b[0;32m----> 8\u001b[0;31m \u001b[0mERA5\u001b[0m\u001b[0;34m(\u001b[0m\u001b[0mtime\u001b[0m\u001b[0;34m=\u001b[0m\u001b[0mtime\u001b[0m\u001b[0;34m,\u001b[0m \u001b[0mvariables\u001b[0m\u001b[0;34m=\u001b[0m\u001b[0mmet_variables\u001b[0m\u001b[0;34m,\u001b[0m \u001b[0mpressure_levels\u001b[0m\u001b[0;34m=\u001b[0m\u001b[0mpressure_levels\u001b[0m\u001b[0;34m)\u001b[0m\u001b[0;34m.\u001b[0m\u001b[0mdownload\u001b[0m\u001b[0;34m(\u001b[0m\u001b[0;34m)\u001b[0m\u001b[0;34m\u001b[0m\u001b[0;34m\u001b[0m\u001b[0m\n\u001b[0m\u001b[1;32m      9\u001b[0m \u001b[0;31m# ERA5(time=time, variables=rad_variables)()\u001b[0m\u001b[0;34m\u001b[0m\u001b[0;34m\u001b[0m\u001b[0m\n",
            "\u001b[0;32m/usr/local/lib/python3.11/dist-packages/pycontrails/datalib/_met_utils/metsource.py\u001b[0m in \u001b[0;36mdownload\u001b[0;34m(self, **xr_kwargs)\u001b[0m\n\u001b[1;32m    605\u001b[0m                 \u001b[0;34m\"Not all files found in cachestore. Downloading times %s\"\u001b[0m\u001b[0;34m,\u001b[0m \u001b[0mtimes_to_download\u001b[0m\u001b[0;34m\u001b[0m\u001b[0;34m\u001b[0m\u001b[0m\n\u001b[1;32m    606\u001b[0m             )\n\u001b[0;32m--> 607\u001b[0;31m             \u001b[0mself\u001b[0m\u001b[0;34m.\u001b[0m\u001b[0mdownload_dataset\u001b[0m\u001b[0;34m(\u001b[0m\u001b[0mtimes_to_download\u001b[0m\u001b[0;34m)\u001b[0m\u001b[0;34m\u001b[0m\u001b[0;34m\u001b[0m\u001b[0m\n\u001b[0m\u001b[1;32m    608\u001b[0m         \u001b[0;32melse\u001b[0m\u001b[0;34m:\u001b[0m\u001b[0;34m\u001b[0m\u001b[0;34m\u001b[0m\u001b[0m\n\u001b[1;32m    609\u001b[0m             \u001b[0mlogger\u001b[0m\u001b[0;34m.\u001b[0m\u001b[0mdebug\u001b[0m\u001b[0;34m(\u001b[0m\u001b[0;34m\"All data files already in cache store\"\u001b[0m\u001b[0;34m)\u001b[0m\u001b[0;34m\u001b[0m\u001b[0;34m\u001b[0m\u001b[0m\n",
            "\u001b[0;32m/usr/local/lib/python3.11/dist-packages/pycontrails/datalib/ecmwf/era5.py\u001b[0m in \u001b[0;36mdownload_dataset\u001b[0;34m(self, times)\u001b[0m\n\u001b[1;32m    362\u001b[0m         \u001b[0mLOG\u001b[0m\u001b[0;34m.\u001b[0m\u001b[0mdebug\u001b[0m\u001b[0;34m(\u001b[0m\u001b[0;34mf\"Downloading ERA5 dataset for times {times}\"\u001b[0m\u001b[0;34m)\u001b[0m\u001b[0;34m\u001b[0m\u001b[0;34m\u001b[0m\u001b[0m\n\u001b[1;32m    363\u001b[0m         \u001b[0;32mfor\u001b[0m \u001b[0mtimes_for_day\u001b[0m \u001b[0;32min\u001b[0m \u001b[0mdownload_times\u001b[0m\u001b[0;34m.\u001b[0m\u001b[0mvalues\u001b[0m\u001b[0;34m(\u001b[0m\u001b[0;34m)\u001b[0m\u001b[0;34m:\u001b[0m\u001b[0;34m\u001b[0m\u001b[0;34m\u001b[0m\u001b[0m\n\u001b[0;32m--> 364\u001b[0;31m             \u001b[0mself\u001b[0m\u001b[0;34m.\u001b[0m\u001b[0m_download_file\u001b[0m\u001b[0;34m(\u001b[0m\u001b[0mtimes_for_day\u001b[0m\u001b[0;34m)\u001b[0m\u001b[0;34m\u001b[0m\u001b[0;34m\u001b[0m\u001b[0m\n\u001b[0m\u001b[1;32m    365\u001b[0m \u001b[0;34m\u001b[0m\u001b[0m\n\u001b[1;32m    366\u001b[0m     \u001b[0;34m@\u001b[0m\u001b[0moverride\u001b[0m\u001b[0;34m\u001b[0m\u001b[0;34m\u001b[0m\u001b[0m\n",
            "\u001b[0;32m/usr/local/lib/python3.11/dist-packages/pycontrails/datalib/ecmwf/era5.py\u001b[0m in \u001b[0;36m_download_file\u001b[0;34m(self, times)\u001b[0m\n\u001b[1;32m    492\u001b[0m                 \u001b[0mself\u001b[0m\u001b[0;34m.\u001b[0m\u001b[0m_set_cds\u001b[0m\u001b[0;34m(\u001b[0m\u001b[0;34m)\u001b[0m\u001b[0;34m\u001b[0m\u001b[0;34m\u001b[0m\u001b[0m\n\u001b[1;32m    493\u001b[0m \u001b[0;34m\u001b[0m\u001b[0m\n\u001b[0;32m--> 494\u001b[0;31m             \u001b[0mself\u001b[0m\u001b[0;34m.\u001b[0m\u001b[0mcds\u001b[0m\u001b[0;34m.\u001b[0m\u001b[0mretrieve\u001b[0m\u001b[0;34m(\u001b[0m\u001b[0mself\u001b[0m\u001b[0;34m.\u001b[0m\u001b[0mdataset\u001b[0m\u001b[0;34m,\u001b[0m \u001b[0mrequest\u001b[0m\u001b[0;34m,\u001b[0m \u001b[0mcds_temp_filename\u001b[0m\u001b[0;34m)\u001b[0m\u001b[0;34m\u001b[0m\u001b[0;34m\u001b[0m\u001b[0m\n\u001b[0m\u001b[1;32m    495\u001b[0m \u001b[0;34m\u001b[0m\u001b[0m\n\u001b[1;32m    496\u001b[0m             \u001b[0;31m# open file, edit, and save for each hourly time step\u001b[0m\u001b[0;34m\u001b[0m\u001b[0;34m\u001b[0m\u001b[0m\n",
            "\u001b[0;32m/usr/local/lib/python3.11/dist-packages/datapi/legacy_api_client.py\u001b[0m in \u001b[0;36mretrieve\u001b[0;34m(self, name, request, target)\u001b[0m\n\u001b[1;32m    167\u001b[0m         \u001b[0msubmitted\u001b[0m\u001b[0;34m:\u001b[0m \u001b[0mRemote\u001b[0m \u001b[0;34m|\u001b[0m \u001b[0mResults\u001b[0m\u001b[0;34m\u001b[0m\u001b[0;34m\u001b[0m\u001b[0m\n\u001b[1;32m    168\u001b[0m         \u001b[0;32mif\u001b[0m \u001b[0mself\u001b[0m\u001b[0;34m.\u001b[0m\u001b[0mwait_until_complete\u001b[0m\u001b[0;34m:\u001b[0m\u001b[0;34m\u001b[0m\u001b[0;34m\u001b[0m\u001b[0m\n\u001b[0;32m--> 169\u001b[0;31m             submitted = self.client.submit_and_wait_on_results(\n\u001b[0m\u001b[1;32m    170\u001b[0m                 \u001b[0mcollection_id\u001b[0m\u001b[0;34m=\u001b[0m\u001b[0mname\u001b[0m\u001b[0;34m,\u001b[0m\u001b[0;34m\u001b[0m\u001b[0;34m\u001b[0m\u001b[0m\n\u001b[1;32m    171\u001b[0m                 \u001b[0mrequest\u001b[0m\u001b[0;34m=\u001b[0m\u001b[0mrequest\u001b[0m\u001b[0;34m,\u001b[0m\u001b[0;34m\u001b[0m\u001b[0;34m\u001b[0m\u001b[0m\n",
            "\u001b[0;32m/usr/local/lib/python3.11/dist-packages/datapi/api_client.py\u001b[0m in \u001b[0;36msubmit_and_wait_on_results\u001b[0;34m(self, collection_id, request)\u001b[0m\n\u001b[1;32m    411\u001b[0m         \u001b[0mdatapi\u001b[0m\u001b[0;34m.\u001b[0m\u001b[0mResults\u001b[0m\u001b[0;34m\u001b[0m\u001b[0;34m\u001b[0m\u001b[0m\n\u001b[1;32m    412\u001b[0m         \"\"\"\n\u001b[0;32m--> 413\u001b[0;31m         \u001b[0;32mreturn\u001b[0m \u001b[0mself\u001b[0m\u001b[0;34m.\u001b[0m\u001b[0m_retrieve_api\u001b[0m\u001b[0;34m.\u001b[0m\u001b[0msubmit\u001b[0m\u001b[0;34m(\u001b[0m\u001b[0mcollection_id\u001b[0m\u001b[0;34m,\u001b[0m \u001b[0mrequest\u001b[0m\u001b[0;34m)\u001b[0m\u001b[0;34m.\u001b[0m\u001b[0mmake_results\u001b[0m\u001b[0;34m(\u001b[0m\u001b[0;34m)\u001b[0m\u001b[0;34m\u001b[0m\u001b[0;34m\u001b[0m\u001b[0m\n\u001b[0m\u001b[1;32m    414\u001b[0m \u001b[0;34m\u001b[0m\u001b[0m\n\u001b[1;32m    415\u001b[0m     \u001b[0;32mdef\u001b[0m \u001b[0munstar_collection\u001b[0m\u001b[0;34m(\u001b[0m\u001b[0mself\u001b[0m\u001b[0;34m,\u001b[0m \u001b[0mcollection_id\u001b[0m\u001b[0;34m:\u001b[0m \u001b[0mstr\u001b[0m\u001b[0;34m)\u001b[0m \u001b[0;34m->\u001b[0m \u001b[0;32mNone\u001b[0m\u001b[0;34m:\u001b[0m\u001b[0;34m\u001b[0m\u001b[0;34m\u001b[0m\u001b[0m\n",
            "\u001b[0;32m/usr/local/lib/python3.11/dist-packages/datapi/processing.py\u001b[0m in \u001b[0;36msubmit\u001b[0;34m(self, collection_id, request)\u001b[0m\n\u001b[1;32m    725\u001b[0m \u001b[0;34m\u001b[0m\u001b[0m\n\u001b[1;32m    726\u001b[0m     \u001b[0;32mdef\u001b[0m \u001b[0msubmit\u001b[0m\u001b[0;34m(\u001b[0m\u001b[0mself\u001b[0m\u001b[0;34m,\u001b[0m \u001b[0mcollection_id\u001b[0m\u001b[0;34m:\u001b[0m \u001b[0mstr\u001b[0m\u001b[0;34m,\u001b[0m \u001b[0mrequest\u001b[0m\u001b[0;34m:\u001b[0m \u001b[0mdict\u001b[0m\u001b[0;34m[\u001b[0m\u001b[0mstr\u001b[0m\u001b[0;34m,\u001b[0m \u001b[0mAny\u001b[0m\u001b[0;34m]\u001b[0m\u001b[0;34m)\u001b[0m \u001b[0;34m->\u001b[0m \u001b[0mRemote\u001b[0m\u001b[0;34m:\u001b[0m\u001b[0;34m\u001b[0m\u001b[0;34m\u001b[0m\u001b[0m\n\u001b[0;32m--> 727\u001b[0;31m         \u001b[0;32mreturn\u001b[0m \u001b[0mself\u001b[0m\u001b[0;34m.\u001b[0m\u001b[0mget_process\u001b[0m\u001b[0;34m(\u001b[0m\u001b[0mcollection_id\u001b[0m\u001b[0;34m)\u001b[0m\u001b[0;34m.\u001b[0m\u001b[0msubmit\u001b[0m\u001b[0;34m(\u001b[0m\u001b[0mrequest\u001b[0m\u001b[0;34m)\u001b[0m\u001b[0;34m\u001b[0m\u001b[0;34m\u001b[0m\u001b[0m\n\u001b[0m",
            "\u001b[0;32m/usr/local/lib/python3.11/dist-packages/datapi/processing.py\u001b[0m in \u001b[0;36msubmit\u001b[0;34m(self, request)\u001b[0m\n\u001b[1;32m    317\u001b[0m         \u001b[0mdatapi\u001b[0m\u001b[0;34m.\u001b[0m\u001b[0mRemote\u001b[0m\u001b[0;34m\u001b[0m\u001b[0;34m\u001b[0m\u001b[0m\n\u001b[1;32m    318\u001b[0m         \"\"\"\n\u001b[0;32m--> 319\u001b[0;31m         job = Job.from_request(\n\u001b[0m\u001b[1;32m    320\u001b[0m             \u001b[0;34m\"post\"\u001b[0m\u001b[0;34m,\u001b[0m\u001b[0;34m\u001b[0m\u001b[0;34m\u001b[0m\u001b[0m\n\u001b[1;32m    321\u001b[0m             \u001b[0;34mf\"{self.url}/execution\"\u001b[0m\u001b[0;34m,\u001b[0m\u001b[0;34m\u001b[0m\u001b[0;34m\u001b[0m\u001b[0m\n",
            "\u001b[0;32m/usr/local/lib/python3.11/dist-packages/datapi/processing.py\u001b[0m in \u001b[0;36mfrom_request\u001b[0;34m(cls, method, url, headers, session, retry_options, request_options, download_options, sleep_max, cleanup, log_callback, log_messages, **kwargs)\u001b[0m\n\u001b[1;32m    175\u001b[0m         \u001b[0mlog\u001b[0m\u001b[0;34m(\u001b[0m\u001b[0mlogging\u001b[0m\u001b[0;34m.\u001b[0m\u001b[0mDEBUG\u001b[0m\u001b[0;34m,\u001b[0m \u001b[0;34mf\"REPLY {response.text}\"\u001b[0m\u001b[0;34m,\u001b[0m \u001b[0mcallback\u001b[0m\u001b[0;34m=\u001b[0m\u001b[0mlog_callback\u001b[0m\u001b[0;34m)\u001b[0m\u001b[0;34m\u001b[0m\u001b[0;34m\u001b[0m\u001b[0m\n\u001b[1;32m    176\u001b[0m \u001b[0;34m\u001b[0m\u001b[0m\n\u001b[0;32m--> 177\u001b[0;31m         \u001b[0mcads_raise_for_status\u001b[0m\u001b[0;34m(\u001b[0m\u001b[0mresponse\u001b[0m\u001b[0;34m)\u001b[0m\u001b[0;34m\u001b[0m\u001b[0;34m\u001b[0m\u001b[0m\n\u001b[0m\u001b[1;32m    178\u001b[0m \u001b[0;34m\u001b[0m\u001b[0m\n\u001b[1;32m    179\u001b[0m         self = cls(\n",
            "\u001b[0;32m/usr/local/lib/python3.11/dist-packages/datapi/processing.py\u001b[0m in \u001b[0;36mcads_raise_for_status\u001b[0;34m(response)\u001b[0m\n\u001b[1;32m     98\u001b[0m                 ]\n\u001b[1;32m     99\u001b[0m             )\n\u001b[0;32m--> 100\u001b[0;31m             \u001b[0;32mraise\u001b[0m \u001b[0mrequests\u001b[0m\u001b[0;34m.\u001b[0m\u001b[0mHTTPError\u001b[0m\u001b[0;34m(\u001b[0m\u001b[0mmessage\u001b[0m\u001b[0;34m,\u001b[0m \u001b[0mresponse\u001b[0m\u001b[0;34m=\u001b[0m\u001b[0mresponse\u001b[0m\u001b[0;34m)\u001b[0m\u001b[0;34m\u001b[0m\u001b[0;34m\u001b[0m\u001b[0m\n\u001b[0m\u001b[1;32m    101\u001b[0m     \u001b[0mresponse\u001b[0m\u001b[0;34m.\u001b[0m\u001b[0mraise_for_status\u001b[0m\u001b[0;34m(\u001b[0m\u001b[0;34m)\u001b[0m\u001b[0;34m\u001b[0m\u001b[0;34m\u001b[0m\u001b[0m\n\u001b[1;32m    102\u001b[0m \u001b[0;34m\u001b[0m\u001b[0m\n",
            "\u001b[0;31mHTTPError\u001b[0m: 401 Client Error: Unauthorized for url: https://cds.climate.copernicus.eu/api/retrieve/v1/processes/reanalysis-era5-pressure-levels/execution\nAuthentication failed\noperation not allowed"
          ]
        }
      ]
    },
    {
      "cell_type": "code",
      "source": [
        "type(era5pl)"
      ],
      "metadata": {
        "id": "7zU9WlN8RZOG",
        "outputId": "d26cac60-4c4c-4fab-bedd-38fcf56bf163",
        "colab": {
          "base_uri": "https://localhost:8080/",
          "height": 291
        }
      },
      "id": "7zU9WlN8RZOG",
      "execution_count": 16,
      "outputs": [
        {
          "output_type": "execute_result",
          "data": {
            "text/plain": [
              "pycontrails.datalib.ecmwf.era5.ERA5"
            ],
            "text/html": [
              "<div style=\"max-width:800px; border: 1px solid var(--colab-border-color);\"><style>\n",
              "      pre.function-repr-contents {\n",
              "        overflow-x: auto;\n",
              "        padding: 8px 12px;\n",
              "        max-height: 500px;\n",
              "      }\n",
              "\n",
              "      pre.function-repr-contents.function-repr-contents-collapsed {\n",
              "        cursor: pointer;\n",
              "        max-height: 100px;\n",
              "      }\n",
              "    </style>\n",
              "    <pre style=\"white-space: initial; background:\n",
              "         var(--colab-secondary-surface-color); padding: 8px 12px;\n",
              "         border-bottom: 1px solid var(--colab-border-color);\"><b>pycontrails.datalib.ecmwf.era5.ERA5</b><br/>def __init__(time: metsource.TimeInput | None, variables: metsource.VariableInput, pressure_levels: metsource.PressureLevelInput=-1, paths: str | list[str] | pathlib.Path | list[pathlib.Path] | None=None, timestep_freq: str | None=None, product_type: str=&#x27;reanalysis&#x27;, grid: float | None=None, cachestore: cache.CacheStore | None=__marker, url: str | None=None, key: str | None=None) -&gt; None</pre><pre class=\"function-repr-contents function-repr-contents-collapsed\" style=\"\"><a class=\"filepath\" style=\"display:none\" href=\"#\">/usr/local/lib/python3.11/dist-packages/pycontrails/datalib/ecmwf/era5.py</a>Class to support ERA5 data access, download, and organization.\n",
              "\n",
              "Requires account with\n",
              "`Copernicus Data Portal &lt;https://cds.climate.copernicus.eu/how-to-api&gt;`_\n",
              "and local credentials.\n",
              "\n",
              "API credentials can be stored in a ``~/.cdsapirc`` file\n",
              "or as ``CDSAPI_URL`` and ``CDSAPI_KEY`` environment variables.\n",
              "\n",
              "    export CDSAPI_URL=...\n",
              "\n",
              "    export CDSAPI_KEY=...\n",
              "\n",
              "Credentials can also be provided directly ``url`` and ``key`` keyword args.\n",
              "\n",
              "See `cdsapi &lt;https://github.com/ecmwf/cdsapi&gt;`_ documentation\n",
              "for more information.\n",
              "\n",
              "Parameters\n",
              "----------\n",
              "time : metsource.TimeInput | None\n",
              "    The time range for data retrieval, either a single datetime or (start, end) datetime range.\n",
              "    Input must be datetime-like or tuple of datetime-like\n",
              "    (`datetime`, :class:`pd.Timestamp`, :class:`np.datetime64`)\n",
              "    specifying the (start, end) of the date range, inclusive.\n",
              "    Datafiles will be downloaded from CDS for each day to reduce requests.\n",
              "    If None, ``paths`` must be defined and all time coordinates will be loaded from files.\n",
              "variables : metsource.VariableInput\n",
              "    Variable name (i.e. &quot;t&quot;, &quot;air_temperature&quot;, [&quot;air_temperature, relative_humidity&quot;])\n",
              "pressure_levels : metsource.PressureLevelInput, optional\n",
              "    Pressure levels for data, in hPa (mbar)\n",
              "    Set to -1 for to download surface level parameters.\n",
              "    Defaults to -1.\n",
              "paths : str | list[str] | pathlib.Path | list[pathlib.Path] | None, optional\n",
              "    Path to CDS NetCDF files to load manually.\n",
              "    Can include glob patterns to load specific files.\n",
              "    Defaults to None, which looks for files in the :attr:`cachestore` or CDS.\n",
              "timestep_freq : str, optional\n",
              "    Manually set the timestep interval within the bounds defined by :attr:`time`.\n",
              "    Supports any string that can be passed to `pd.date_range(freq=...)`.\n",
              "    By default, this is set to &quot;1h&quot; for reanalysis products and &quot;3h&quot; for ensemble products.\n",
              "product_type : str, optional\n",
              "    Product type, one of &quot;reanalysis&quot;, &quot;ensemble_mean&quot;, &quot;ensemble_members&quot;, &quot;ensemble_spread&quot;\n",
              "grid : float, optional\n",
              "    Specify latitude/longitude grid spacing in data.\n",
              "    By default, this is set to 0.25 for reanalysis products and 0.5 for ensemble products.\n",
              "cachestore : cache.CacheStore | None, optional\n",
              "    Cache data store for staging ECMWF ERA5 files.\n",
              "    Defaults to :class:`cache.DiskCacheStore`.\n",
              "    If None, cache is turned off.\n",
              "url : str | None\n",
              "    Override the default `cdsapi &lt;https://github.com/ecmwf/cdsapi&gt;`_ url.\n",
              "    As of January 2025, the url for the `CDS Server &lt;https://cds.climate.copernicus.eu&gt;`_\n",
              "    is &quot;https://cds.climate.copernicus.eu/api&quot;. If None, the url is set\n",
              "    by the ``CDSAPI_URL`` environment variable. If this is not defined, the\n",
              "    ``cdsapi`` package will determine the url.\n",
              "key : str | None\n",
              "    Override default `cdsapi &lt;https://github.com/ecmwf/cdsapi&gt;`_ key. If None,\n",
              "    the key is set by the ``CDSAPI_KEY`` environment variable. If this is not defined,\n",
              "    the ``cdsapi`` package will determine the key.\n",
              "\n",
              "Notes\n",
              "-----\n",
              "ERA5 parameter list:\n",
              "https://confluence.ecmwf.int/pages/viewpage.action?pageId=82870405#ERA5:datadocumentation-Parameterlistings\n",
              "\n",
              "All radiative quantities are accumulated.\n",
              "See https://www.ecmwf.int/sites/default/files/elibrary/2015/18490-radiation-quantities-ecmwf-model-and-mars.pdf\n",
              "for more information.\n",
              "\n",
              "Local ``paths`` are loaded using :func:`xarray.open_mfdataset`.\n",
              "Pass ``xr_kwargs`` inputs to :meth:`open_metdataset` to customize file loading.\n",
              "\n",
              "Examples\n",
              "--------\n",
              "&gt;&gt;&gt; from datetime import datetime\n",
              "&gt;&gt;&gt; from pycontrails.datalib.ecmwf import ERA5\n",
              "&gt;&gt;&gt; from pycontrails import GCPCacheStore\n",
              "\n",
              "&gt;&gt;&gt; # Store data files from CDS to local disk (default behavior)\n",
              "&gt;&gt;&gt; era5 = ERA5(\n",
              "...     &quot;2020-06-01 12:00:00&quot;,\n",
              "...     variables=[&quot;air_temperature&quot;, &quot;relative_humidity&quot;],\n",
              "...     pressure_levels=[350, 300]\n",
              "... )\n",
              "\n",
              "&gt;&gt;&gt; # cache files to google cloud storage\n",
              "&gt;&gt;&gt; gcp_cache = GCPCacheStore(\n",
              "...     bucket=&quot;contrails-301217-unit-test&quot;,\n",
              "...     cache_dir=&quot;ecmwf&quot;,\n",
              "... )\n",
              "&gt;&gt;&gt; era5 = ERA5(\n",
              "...     &quot;2020-06-01 12:00:00&quot;,\n",
              "...     variables=[&quot;air_temperature&quot;, &quot;relative_humidity&quot;],\n",
              "...     pressure_levels=[350, 300],\n",
              "...     cachestore=gcp_cache\n",
              "... )</pre>\n",
              "      <script>\n",
              "      if (google.colab.kernel.accessAllowed && google.colab.files && google.colab.files.view) {\n",
              "        for (const element of document.querySelectorAll('.filepath')) {\n",
              "          element.style.display = 'block'\n",
              "          element.onclick = (event) => {\n",
              "            event.preventDefault();\n",
              "            event.stopPropagation();\n",
              "            google.colab.files.view(element.textContent, 38);\n",
              "          };\n",
              "        }\n",
              "      }\n",
              "      for (const element of document.querySelectorAll('.function-repr-contents')) {\n",
              "        element.onclick = (event) => {\n",
              "          event.preventDefault();\n",
              "          event.stopPropagation();\n",
              "          element.classList.toggle('function-repr-contents-collapsed');\n",
              "        };\n",
              "      }\n",
              "      </script>\n",
              "      </div>"
            ]
          },
          "metadata": {},
          "execution_count": 16
        }
      ]
    },
    {
      "cell_type": "code",
      "execution_count": 15,
      "id": "7cdc5d78-b5c4-4ef4-b8b4-d26b9034ebc9",
      "metadata": {
        "colab": {
          "base_uri": "https://localhost:8080/",
          "height": 507
        },
        "id": "7cdc5d78-b5c4-4ef4-b8b4-d26b9034ebc9",
        "outputId": "64ce9741-4394-43c4-ce2c-e8febbecfc19"
      },
      "outputs": [
        {
          "output_type": "error",
          "ename": "ValueError",
          "evalue": "did not find a match in any of xarray's currently installed IO backends ['h5netcdf', 'scipy']. Consider explicitly selecting one of the installed engines via the ``engine`` parameter, or installing additional IO dependencies, see:\nhttps://docs.xarray.dev/en/stable/getting-started-guide/installing.html\nhttps://docs.xarray.dev/en/stable/user-guide/io.html",
          "traceback": [
            "\u001b[0;31m---------------------------------------------------------------------------\u001b[0m",
            "\u001b[0;31mValueError\u001b[0m                                Traceback (most recent call last)",
            "\u001b[0;32m<ipython-input-15-02e4d035e2e5>\u001b[0m in \u001b[0;36m<cell line: 0>\u001b[0;34m()\u001b[0m\n\u001b[1;32m      1\u001b[0m \u001b[0;31m# create `MetDataset` from sources\u001b[0m\u001b[0;34m\u001b[0m\u001b[0;34m\u001b[0m\u001b[0m\n\u001b[1;32m      2\u001b[0m \u001b[0;32mimport\u001b[0m \u001b[0mxarray\u001b[0m \u001b[0;32mas\u001b[0m \u001b[0mxr\u001b[0m\u001b[0;34m\u001b[0m\u001b[0;34m\u001b[0m\u001b[0m\n\u001b[0;32m----> 3\u001b[0;31m \u001b[0mds\u001b[0m \u001b[0;34m=\u001b[0m \u001b[0mxr\u001b[0m\u001b[0;34m.\u001b[0m\u001b[0mopen_dataset\u001b[0m\u001b[0;34m(\u001b[0m\u001b[0mera5pl\u001b[0m\u001b[0;34m)\u001b[0m\u001b[0;34m\u001b[0m\u001b[0;34m\u001b[0m\u001b[0m\n\u001b[0m\u001b[1;32m      4\u001b[0m \u001b[0;31m# met = era5pl.open_metdataset()\u001b[0m\u001b[0;34m\u001b[0m\u001b[0;34m\u001b[0m\u001b[0m\n\u001b[1;32m      5\u001b[0m \u001b[0;31m# era5pl.download()\u001b[0m\u001b[0;34m\u001b[0m\u001b[0;34m\u001b[0m\u001b[0m\n",
            "\u001b[0;32m/usr/local/lib/python3.11/dist-packages/xarray/backends/api.py\u001b[0m in \u001b[0;36mopen_dataset\u001b[0;34m(filename_or_obj, engine, chunks, cache, decode_cf, mask_and_scale, decode_times, decode_timedelta, use_cftime, concat_characters, decode_coords, drop_variables, inline_array, chunked_array_type, from_array_kwargs, backend_kwargs, **kwargs)\u001b[0m\n\u001b[1;32m    665\u001b[0m \u001b[0;34m\u001b[0m\u001b[0m\n\u001b[1;32m    666\u001b[0m     \u001b[0;32mif\u001b[0m \u001b[0mengine\u001b[0m \u001b[0;32mis\u001b[0m \u001b[0;32mNone\u001b[0m\u001b[0;34m:\u001b[0m\u001b[0;34m\u001b[0m\u001b[0;34m\u001b[0m\u001b[0m\n\u001b[0;32m--> 667\u001b[0;31m         \u001b[0mengine\u001b[0m \u001b[0;34m=\u001b[0m \u001b[0mplugins\u001b[0m\u001b[0;34m.\u001b[0m\u001b[0mguess_engine\u001b[0m\u001b[0;34m(\u001b[0m\u001b[0mfilename_or_obj\u001b[0m\u001b[0;34m)\u001b[0m\u001b[0;34m\u001b[0m\u001b[0;34m\u001b[0m\u001b[0m\n\u001b[0m\u001b[1;32m    668\u001b[0m \u001b[0;34m\u001b[0m\u001b[0m\n\u001b[1;32m    669\u001b[0m     \u001b[0;32mif\u001b[0m \u001b[0mfrom_array_kwargs\u001b[0m \u001b[0;32mis\u001b[0m \u001b[0;32mNone\u001b[0m\u001b[0;34m:\u001b[0m\u001b[0;34m\u001b[0m\u001b[0;34m\u001b[0m\u001b[0m\n",
            "\u001b[0;32m/usr/local/lib/python3.11/dist-packages/xarray/backends/plugins.py\u001b[0m in \u001b[0;36mguess_engine\u001b[0;34m(store_spec)\u001b[0m\n\u001b[1;32m    192\u001b[0m         )\n\u001b[1;32m    193\u001b[0m \u001b[0;34m\u001b[0m\u001b[0m\n\u001b[0;32m--> 194\u001b[0;31m     \u001b[0;32mraise\u001b[0m \u001b[0mValueError\u001b[0m\u001b[0;34m(\u001b[0m\u001b[0merror_msg\u001b[0m\u001b[0;34m)\u001b[0m\u001b[0;34m\u001b[0m\u001b[0;34m\u001b[0m\u001b[0m\n\u001b[0m\u001b[1;32m    195\u001b[0m \u001b[0;34m\u001b[0m\u001b[0m\n\u001b[1;32m    196\u001b[0m \u001b[0;34m\u001b[0m\u001b[0m\n",
            "\u001b[0;31mValueError\u001b[0m: did not find a match in any of xarray's currently installed IO backends ['h5netcdf', 'scipy']. Consider explicitly selecting one of the installed engines via the ``engine`` parameter, or installing additional IO dependencies, see:\nhttps://docs.xarray.dev/en/stable/getting-started-guide/installing.html\nhttps://docs.xarray.dev/en/stable/user-guide/io.html"
          ]
        }
      ],
      "source": [
        "# create `MetDataset` from sources\n",
        "import xarray as xr\n",
        "ds = xr.open_dataset(era5pl)\n",
        "# met = era5pl.open_metdataset()\n",
        "# era5pl.download()\n",
        "\n",
        "# rad = era5sl.open_metdataset()"
      ]
    },
    {
      "cell_type": "code",
      "source": [],
      "metadata": {
        "id": "NonrqmmMl6Nq"
      },
      "id": "NonrqmmMl6Nq",
      "execution_count": null,
      "outputs": []
    },
    {
      "cell_type": "markdown",
      "id": "8ee1defc-f749-4bbc-bd44-41b4614fdcfc",
      "metadata": {
        "tags": [],
        "id": "8ee1defc-f749-4bbc-bd44-41b4614fdcfc"
      },
      "source": [
        "## Set up model"
      ]
    },
    {
      "cell_type": "code",
      "execution_count": null,
      "id": "4687a3c0-7980-4503-a923-bc4e561ce657",
      "metadata": {
        "id": "4687a3c0-7980-4503-a923-bc4e561ce657"
      },
      "outputs": [],
      "source": [
        "params = {\n",
        "    \"process_emissions\": False,\n",
        "    \"verbose_outputs\": True,\n",
        "    \"humidity_scaling\": ConstantHumidityScaling(rhi_adj=0.98),\n",
        "}\n",
        "cocip = Cocip(met=met, rad=rad, params=params)"
      ]
    },
    {
      "cell_type": "markdown",
      "id": "705c6ca1-ca32-4f18-b814-39b6d41da0e6",
      "metadata": {
        "tags": [],
        "id": "705c6ca1-ca32-4f18-b814-39b6d41da0e6"
      },
      "source": [
        "## Run model"
      ]
    },
    {
      "cell_type": "code",
      "execution_count": null,
      "id": "eaf730d2-7d35-491b-bbaf-f1fe18b3d70e",
      "metadata": {
        "id": "eaf730d2-7d35-491b-bbaf-f1fe18b3d70e"
      },
      "outputs": [],
      "source": [
        "fl_out = cocip.eval(source=fl)"
      ]
    },
    {
      "cell_type": "code",
      "source": [],
      "metadata": {
        "id": "Za517i21s3sq"
      },
      "id": "Za517i21s3sq",
      "execution_count": null,
      "outputs": []
    },
    {
      "cell_type": "markdown",
      "id": "00b23d42-4ae7-40e1-9ce1-6c2d1b020f22",
      "metadata": {
        "tags": [],
        "id": "00b23d42-4ae7-40e1-9ce1-6c2d1b020f22"
      },
      "source": [
        "## Review output"
      ]
    },
    {
      "cell_type": "markdown",
      "id": "1b2fe0ac-c61e-4f2f-bcdb-043cfe80d8d7",
      "metadata": {
        "id": "1b2fe0ac-c61e-4f2f-bcdb-043cfe80d8d7"
      },
      "source": [
        "The output flight has the original flight data with many new variables added from the evaluation."
      ]
    },
    {
      "cell_type": "code",
      "execution_count": null,
      "id": "bdb634f4-4e37-40c4-a040-016c9cf0081e",
      "metadata": {
        "id": "bdb634f4-4e37-40c4-a040-016c9cf0081e"
      },
      "outputs": [],
      "source": [
        "fl_out"
      ]
    },
    {
      "cell_type": "code",
      "execution_count": null,
      "id": "478faab6-8bfc-4a5c-8223-2d4f98237f16",
      "metadata": {
        "id": "478faab6-8bfc-4a5c-8223-2d4f98237f16"
      },
      "outputs": [],
      "source": [
        "fl_out.dataframe.columns"
      ]
    },
    {
      "cell_type": "markdown",
      "id": "632a25c7-746b-4ca3-a432-5be3b6d7daa4",
      "metadata": {
        "id": "632a25c7-746b-4ca3-a432-5be3b6d7daa4"
      },
      "source": [
        "The `cocip` variable describes where persistent contrails form. It can take on values:\n",
        "\n",
        "- 1: Persistent contrails form\n",
        "- 0: No persistent contrails form"
      ]
    },
    {
      "cell_type": "code",
      "execution_count": null,
      "id": "d6063b4b-20bd-40ff-a917-d50232359b07",
      "metadata": {
        "id": "d6063b4b-20bd-40ff-a917-d50232359b07"
      },
      "outputs": [],
      "source": [
        "fl_out[\"cocip\"]"
      ]
    },
    {
      "cell_type": "markdown",
      "id": "f1a7015b-4285-4a33-bf68-91a1504b77ef",
      "metadata": {
        "id": "f1a7015b-4285-4a33-bf68-91a1504b77ef"
      },
      "source": [
        "The model class contains information about the contrail created:\n",
        "\n",
        "- `cocip.source` the original input flight\n",
        "- `cocip.contrail` will be defined as a `pandas` DataFrame if a contrail is created.\n",
        "- `cocip.contrail_dataset` is the same data but formatted as an `xarray` Dataset."
      ]
    },
    {
      "cell_type": "code",
      "execution_count": null,
      "id": "968bbaeb-b635-4fa1-ad11-037ae89993c6",
      "metadata": {
        "id": "968bbaeb-b635-4fa1-ad11-037ae89993c6"
      },
      "outputs": [],
      "source": [
        "cocip.contrail"
      ]
    },
    {
      "cell_type": "markdown",
      "id": "bec9b6da-d71d-40a9-9616-0c895cf39714",
      "metadata": {
        "id": "bec9b6da-d71d-40a9-9616-0c895cf39714"
      },
      "source": [
        "We can visualize the contrail on top of the original flight trajectory using pandas plotting capabilities"
      ]
    },
    {
      "cell_type": "code",
      "execution_count": null,
      "id": "62e4c442-c3e3-49b2-9d27-ea70632f10ae",
      "metadata": {
        "id": "62e4c442-c3e3-49b2-9d27-ea70632f10ae"
      },
      "outputs": [],
      "source": [
        "ax = cocip.source.dataframe.plot(\n",
        "    \"longitude\", \"latitude\", color=\"k\", label=fl.attrs[\"flight_id\"], figsize=(12, 8)\n",
        ")\n",
        "cocip.contrail.plot.scatter(\"longitude\", \"latitude\", c=\"rf_lw\", cmap=\"Reds\", ax=ax);"
      ]
    },
    {
      "cell_type": "code",
      "execution_count": null,
      "id": "0f55e889-cc15-460a-bfe2-249f5c82d766",
      "metadata": {
        "id": "0f55e889-cc15-460a-bfe2-249f5c82d766"
      },
      "outputs": [],
      "source": [
        "ax = cocip.source.dataframe.plot(\n",
        "    \"longitude\", \"latitude\", color=\"k\", label=fl.attrs[\"flight_id\"], figsize=(12, 8)\n",
        ")\n",
        "cocip.contrail.plot.scatter(\n",
        "    \"longitude\", \"latitude\", c=\"ef\", cmap=\"coolwarm\", vmin=-1e12, vmax=1e12, ax=ax\n",
        ");"
      ]
    }
  ],
  "metadata": {
    "kernelspec": {
      "display_name": "Python 3 (ipykernel)",
      "language": "python",
      "name": "python3"
    },
    "language_info": {
      "codemirror_mode": {
        "name": "ipython",
        "version": 3
      },
      "file_extension": ".py",
      "mimetype": "text/x-python",
      "name": "python",
      "nbconvert_exporter": "python",
      "pygments_lexer": "ipython3"
    },
    "colab": {
      "provenance": []
    }
  },
  "nbformat": 4,
  "nbformat_minor": 5
}